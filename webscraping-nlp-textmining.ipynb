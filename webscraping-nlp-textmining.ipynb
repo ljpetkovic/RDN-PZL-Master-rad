{
 "cells": [
  {
   "cell_type": "markdown",
   "metadata": {},
   "source": [
    "## _Grebanje veba_ (_web scraping_) "
   ]
  },
  {
   "cell_type": "markdown",
   "metadata": {},
   "source": [
    "### lyricsmaster"
   ]
  },
  {
   "cell_type": "code",
   "execution_count": null,
   "metadata": {},
   "outputs": [],
   "source": [
    "from lyricsmaster import LyricWiki\n",
    "\n",
    "provider = LyricWiki()\n",
    "izvodjaci = ['Bajaga', 'Bajaga & Instruktori', 'Bebi Dol', 'Bijelo Dugme',  'Dino Merlin', 'Divlje Jagode', 'Elektricni Orgazam', 'Galija', 'Goran Bregovic', 'Goran Karan', 'Hari Mata Hari', 'Haustor', 'Idoli', 'Indexi', 'Josipa Lisac', 'Kerber', 'Madame Piano', 'Mirzino Jato', 'Negative (RS)', 'Neverne Bebe', 'Nina Badric', 'Oktobar 1864', 'Partibrejkers', 'Prljavo Kazaliste', 'Rani Mraz', 'Smak', 'Van Gogh', 'Vesna Pisarovic', 'YU Grupa', 'Zabranjeno Pusenje', 'Zana', 'Zdravko Colic', 'Zeljko Joksimovic'] # lista izvođača čiji tekstovi se preuzimaju\n",
    "\n",
    "def korpus(izvodjaci): \n",
    "    for izvodjac in izvodjaci:\n",
    "        try:\n",
    "            discography = provider.get_lyrics(izvodjac)\n",
    "            for album in discography:    \n",
    "                print('Album: ', album.title)\n",
    "                for song in album:\n",
    "                    print('Song: ', song.title)\n",
    "                    print('Lyrics: ', song.lyrics)\n",
    "                    discography.save() # čuvanje tekstova u {user}/Documents/lyricsmaster/\n",
    "        except: # ukoliko na sajtu postoji samo naslov pesme, ali ne i sadržaj teksta \n",
    "            continue\n",
    "\n",
    "korpus(izvodjaci)"
   ]
  },
  {
   "cell_type": "markdown",
   "metadata": {},
   "source": [
    "### Beautiful Soup"
   ]
  },
  {
   "cell_type": "code",
   "execution_count": null,
   "metadata": {},
   "outputs": [],
   "source": [
    "from pyquery import PyQuery as pq\n",
    "from lxml import etree\n",
    "import requests\n",
    "from bs4 import BeautifulSoup\n",
    "\n",
    "with open('metrolyrics.txt', 'w') as m:\n",
    "    linkovi = ['http://www.metrolyrics.com/azra-lyrics.html', 'http://www.metrolyrics.com/riblja-corba-lyrics.html', 'http://www.metrolyrics.com/ekv-lyrics.html']\n",
    "    for link in linkovi:\n",
    "        response = requests.get(link) # poseta veb-sajtu\n",
    "        doc = pq(response.content) # razdvajanje različitih sadržaja\n",
    "        titles = doc('.title') # pronalaženje naslova u sadržaju\n",
    "        for title in titles: # za svaki naslov, \n",
    "            response_title = requests.get(title.attrib['href']) # pronalaženje svakog naslova\n",
    "            doc2 = pq(response_title.content) # razdvajanje sadržaja\n",
    "            verse = doc2('.verse') # pronalaženje teksta numere\n",
    "            print(verse.text()) # prikaz tekstova\n",
    "            m.write((' ').join(verse.text().split()))"
   ]
  },
  {
   "cell_type": "markdown",
   "metadata": {},
   "source": [
    "## Automatska XML anotacija -- yattag"
   ]
  },
  {
   "cell_type": "code",
   "execution_count": null,
   "metadata": {},
   "outputs": [],
   "source": [
    "import os\n",
    "from os import listdir \n",
    "from os.path import isfile, join\n",
    "import html\n",
    "from yattag import Doc, indent\n",
    "\n",
    "def replace_char_entities(s): \n",
    "    return html.escape(s) \n",
    "\n",
    "myroot = '/Users/ljudmilapetkovic/Documents/LyricsMaster'\n",
    "doc, tag, text = Doc().tagtext()\n",
    "\n",
    "authors = [dir for dir in listdir(myroot) if not isfile(join(myroot, dir))]\n",
    "\n",
    "with tag('exYuPesme'):\n",
    "    \n",
    "    for author in authors:\n",
    "        \n",
    "        curr_path = '{}/{}'.format(myroot, author)\n",
    "        albums = [dir for dir in listdir(curr_path) if not isfile(join(curr_path, dir))]\n",
    "        \n",
    "        with tag('autor', ime=author, brojAlbuma=len(albums), pol=\"\"):\n",
    "            \n",
    "            for album in albums:\n",
    "                with tag('album', naziv=album, godina=\"\"):\n",
    "                    \n",
    "                    album_path = '{}/{}'.format(curr_path, album)\n",
    "                    songs = [f for f in listdir(album_path) if isfile(join(album_path, f))]\n",
    "                    for song in songs:\n",
    "                        if not song.startswith('.DS_S'):\n",
    "                            with tag('pesma', naslovPesme=song[:-4]):\n",
    "                                song_path = '{}/{}'.format(album_path, song)\n",
    "                                for stih in open(song_path, encoding=\"utf8\", errors='ignore').read().split('\\n')[:-1]:\n",
    "                                    with tag('li'):\n",
    "                                        text('{}'.format(replace_char_entities(stih)))\n",
    "            \n",
    "\n",
    "result = indent(\n",
    "doc.getvalue(),\n",
    "indentation = ' '*4,\n",
    "newline = '\\r\\n'\n",
    ")\n",
    "\n",
    "print(result)\n",
    "with open('exyuxml (bez .DS-Store).xml', 'w') as x:\n",
    "    x.write(result)"
   ]
  },
  {
   "cell_type": "markdown",
   "metadata": {},
   "source": [
    "## NLTK"
   ]
  },
  {
   "cell_type": "markdown",
   "metadata": {},
   "source": [
    "### Sufiksi na -ija"
   ]
  },
  {
   "cell_type": "code",
   "execution_count": null,
   "metadata": {},
   "outputs": [],
   "source": [
    "import nltk\n",
    "import cyrtranslit\n",
    "\n",
    "def sufiksi():     \n",
    "    \n",
    "    with open('ex-yu-korpus.txt', 'r') as f:\n",
    "        data = str(f.readlines())\n",
    "        data = cyrtranslit.to_latin(data)\n",
    "        tokens = nltk.word_tokenize(data)\n",
    "        tokens = [token.lower() for token in tokens]\n",
    "        tokens = nltk.Text(tokens) \n",
    "        lista_tokena = sorted(w for w in set(tokens) if w.endswith('ija'))\n",
    "        print('Lista tokena:', len(lista_tokena), '\\n\\n', lista_tokena)\n",
    "        \n",
    "        \n",
    "sufiksi()"
   ]
  },
  {
   "cell_type": "markdown",
   "metadata": {},
   "source": [
    "### Konkordanca"
   ]
  },
  {
   "cell_type": "code",
   "execution_count": null,
   "metadata": {},
   "outputs": [],
   "source": [
    "from nltk.tokenize import word_tokenize\n",
    "from nltk.text import Text \n",
    "import nltk.corpus, cyrtranslit \n",
    "\n",
    "def konkordanca(rec):\n",
    "    with open('ex-yu-korpus.txt', 'r') as f:\n",
    "        data = str(f.readlines())\n",
    "        data = cyrtranslit.to_latin(data)\n",
    "        tokens = nltk.word_tokenize(data)\n",
    "        conc = nltk.Text(tokens)\n",
    "        conc.concordance(rec)\n",
    "        \n",
    "konkordanca('partija')"
   ]
  },
  {
   "cell_type": "markdown",
   "metadata": {},
   "source": [
    "## Generisanje pojedinačnih .txt fajlova tekstova pesama"
   ]
  },
  {
   "cell_type": "markdown",
   "metadata": {},
   "source": [
    "### ...za svakog autora"
   ]
  },
  {
   "cell_type": "code",
   "execution_count": null,
   "metadata": {},
   "outputs": [],
   "source": [
    "import os\n",
    "from os import listdir \n",
    "from os.path import isfile, join\n",
    "import html\n",
    "\n",
    "def replace_char_entities(s): \n",
    "    return html.escape(s) \n",
    "\n",
    "myroot = '/Users/ljudmilapetkovic/Documents/LyricsMaster'\n",
    "\n",
    "authors = [dir for dir in listdir(myroot) if not isfile(join(myroot, dir))]\n",
    "\n",
    "def autor_pesme(a, datoteka):\n",
    "    with open(datoteka, 'w') as x:\n",
    "        for author in authors:\n",
    "            curr_path = '{}/{}'.format(myroot, author)\n",
    "            if curr_path.endswith('{}'.format(a)):\n",
    "                albums = [dir for dir in listdir(curr_path) if not isfile(join(curr_path, dir))]\n",
    "                for album in albums:\n",
    "                    album_path = '{}/{}'.format(curr_path, album)\n",
    "                    songs = [f for f in listdir(album_path) if isfile(join(album_path, f))]\n",
    "                    for song in songs:\n",
    "                        if not song.startswith('.DS_S'):\n",
    "                            song_path = '{}/{}'.format(album_path, song)\n",
    "                            x.write(song[:-4] + '\\n\\n')\n",
    "                            print(song[:-4], '\\n\\n')\n",
    "                            for stih in open(song_path, encoding=\"utf8\", errors='ignore').read().split('\\n')[:-1]:\n",
    "                                line = '{}'.format(replace_char_entities(stih))\n",
    "                                print(line)\n",
    "                                x.write(line + '\\n') \n",
    "            else:\n",
    "                pass\n",
    "\n",
    "a = 'Madame-Piano'            \n",
    "autor_pesme(a, a + '.txt')"
   ]
  },
  {
   "cell_type": "markdown",
   "metadata": {},
   "source": [
    "### ...i za svaki album određenog autora"
   ]
  },
  {
   "cell_type": "code",
   "execution_count": null,
   "metadata": {},
   "outputs": [],
   "source": [
    "import os\n",
    "from os import listdir \n",
    "from os.path import isfile, join\n",
    "import html\n",
    "\n",
    "def replace_char_entities(s): \n",
    "    return html.escape(s) \n",
    "\n",
    "myroot = '/Users/ljudmilapetkovic/Documents/LyricsMaster'\n",
    "\n",
    "def autor_album(a, al, datoteka):\n",
    "    with open(datoteka, 'w') as x:\n",
    "        authors = [dir for dir in listdir(myroot) if not isfile(join(myroot, dir))]\n",
    "        for author in authors:\n",
    "            curr_path = '{}/{}'.format(myroot, author)\n",
    "            if curr_path.endswith('{}'.format(a)):\n",
    "                albums = [dir for dir in listdir(curr_path) if not isfile(join(curr_path, dir))]\n",
    "                for album in albums:\n",
    "                    album_path = '{}/{}'.format(curr_path, album)\n",
    "                    if album_path.endswith('{}'.format(al)):\n",
    "                        songs = [f for f in listdir(album_path) if isfile(join(album_path, f))]\n",
    "                        for song in songs:\n",
    "                            if not song.startswith('.DS_S'):\n",
    "                                print(song[:-4], '\\n')\n",
    "                                x.write(song[:-4] + '\\n')\n",
    "                                song_path = '{}/{}'.format(album_path, song)\n",
    "                                for stih in open(song_path, encoding=\"utf8\", errors='ignore').read().split('\\n')[:-1]:\n",
    "                                    line = '{}'.format(replace_char_entities(stih))\n",
    "                                    x.write(line)\n",
    "                                    print(line)\n",
    "\n",
    "a = 'Bajaga-Instruktori'\n",
    "al = 'Zmaj-Od-Nocaja'                               \n",
    "autor_album(a, al, a + '_' + al + '.txt')                  "
   ]
  }
 ],
 "metadata": {
  "kernelspec": {
   "display_name": "Python 3",
   "language": "python",
   "name": "python3"
  },
  "language_info": {
   "codemirror_mode": {
    "name": "ipython",
    "version": 3
   },
   "file_extension": ".py",
   "mimetype": "text/x-python",
   "name": "python",
   "nbconvert_exporter": "python",
   "pygments_lexer": "ipython3",
   "version": "3.6.5"
  }
 },
 "nbformat": 4,
 "nbformat_minor": 2
}
